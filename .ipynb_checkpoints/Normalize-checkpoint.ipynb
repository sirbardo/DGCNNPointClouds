{
 "cells": [
  {
   "cell_type": "code",
   "execution_count": 99,
   "metadata": {},
   "outputs": [],
   "source": [
    "import numpy as np\n",
    "import trimesh\n",
    "from exact_min_bound_sphere_3D import exact_min_bound_sphere_3D"
   ]
  },
  {
   "cell_type": "code",
   "execution_count": 113,
   "metadata": {},
   "outputs": [],
   "source": [
    "filename = 'head_american.txt'\n",
    "\n",
    "centroids = []\n",
    "labels = []\n",
    "with open(filename) as f:\n",
    "    \n",
    "    lines = f.readlines()\n",
    "    \n",
    "    for line in lines:\n",
    "        \n",
    "        values = line.split()\n",
    "        \n",
    "        centroids += [(float(values[0]), float(values[1]), float(values[2]))]\n",
    "        labels += [values[3]]"
   ]
  },
  {
   "cell_type": "code",
   "execution_count": 114,
   "metadata": {},
   "outputs": [
    {
     "name": "stdout",
     "output_type": "stream",
     "text": [
      "143\n"
     ]
    }
   ],
   "source": [
    "#NORMALIZE TO THE UNIT SPHERE\n",
    "np_centr = np.array([np.array(x) for x in centroids])\n",
    "R, C, Xb = exact_min_bound_sphere_3D(np_centr)\n",
    "c = np.array(C)\n",
    "normalized = [((v[0]-c[0])/R, (v[1]-c[1])/R, (v[2]-c[2])/R) for v in np_centr]"
   ]
  },
  {
   "cell_type": "code",
   "execution_count": 115,
   "metadata": {},
   "outputs": [],
   "source": [
    "with open('norm_'+filename, 'w') as f:\n",
    "    \n",
    "    for idx, el in enumerate(normalized):\n",
    "        \n",
    "        f.write(str(el[0])+' '+str(el[1])+' '+str(el[2])+' '+labels[idx]+'\\n')\n",
    "    \n",
    "    "
   ]
  },
  {
   "cell_type": "code",
   "execution_count": 117,
   "metadata": {},
   "outputs": [
    {
     "data": {
      "text/plain": [
       "(0.9992876312387214, 0.03597107505035971, 0.011415419967153156)"
      ]
     },
     "execution_count": 117,
     "metadata": {},
     "output_type": "execute_result"
    }
   ],
   "source": []
  },
  {
   "cell_type": "code",
   "execution_count": null,
   "metadata": {},
   "outputs": [],
   "source": []
  }
 ],
 "metadata": {
  "kernelspec": {
   "display_name": "Python 3",
   "language": "python",
   "name": "python3"
  },
  "language_info": {
   "codemirror_mode": {
    "name": "ipython",
    "version": 3
   },
   "file_extension": ".py",
   "mimetype": "text/x-python",
   "name": "python",
   "nbconvert_exporter": "python",
   "pygments_lexer": "ipython3",
   "version": "3.6.4"
  }
 },
 "nbformat": 4,
 "nbformat_minor": 2
<<<<<<< HEAD
}
=======
}
>>>>>>> b07c669823c0f2fe0883c8c6ce69c987f1ded81a
