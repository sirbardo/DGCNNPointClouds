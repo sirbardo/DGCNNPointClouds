{
 "cells": [
  {
   "cell_type": "code",
   "execution_count": 1,
   "metadata": {},
   "outputs": [],
   "source": [
    "import torch\n",
    "import torch.nn as nn\n",
    "import numpy as np\n",
    "from pdb import set_trace"
   ]
  },
  {
   "cell_type": "code",
   "execution_count": 2,
   "metadata": {},
   "outputs": [],
   "source": [
    "use_cuda = torch.cuda.is_available()\n",
    "Float = torch.cuda.FloatTensor if use_cuda else torch.FloatTensor\n",
    "Long = torch.cuda.LongTensor if use_cuda else torch.LongTensor\n",
    "Int = torch.cuda.IntTensor if use_cuda else torch.IntTensor\n",
    "Double = torch.cuda.DoubleTensor if use_cuda else torch.DoubleTensor"
   ]
  },
  {
   "cell_type": "code",
   "execution_count": 3,
   "metadata": {},
   "outputs": [],
   "source": [
    "def pairwise_distance(point_cloud):\n",
    "    \"\"\"\n",
    "    Args:\n",
    "    point_cloud: tensor (batch_size, num_points, num_dims)\n",
    "    Returns:\n",
    "    pairwise distance: (batch_size, num_points, num_points)\n",
    "    \"\"\"\n",
    "    batch_size = point_cloud.size()[0]\n",
    "    point_cloud = torch.squeeze(point_cloud)\n",
    "    #if batch_size==1:\n",
    "    #    point_cloud = point_cloud.unsqueeze(0)\n",
    "    point_cloud_transpose = point_cloud.permute(0, 2, 1)\n",
    "    point_cloud_inner = -2*torch.bmm(point_cloud, point_cloud_transpose)\n",
    "    point_cloud_square = (point_cloud**2).sum(dim=-1, keepdim=True)\n",
    "    point_cloud_square_transpose = point_cloud_square.permute(0, 2, 1)\n",
    "    return point_cloud_square + point_cloud_inner + point_cloud_square_transpose\n",
    "\n",
    "def knn(dist_mat, k=20):\n",
    "    \"\"\"\n",
    "    Args:\n",
    "    pairwise distance: (batch_size, num_points, num_points)\n",
    "    k: int\n",
    "    Returns:\n",
    "    nearest neighbors: (batch_size, num_points, k)\n",
    "    \"\"\"\n",
    "    _, nn_idx = torch.topk(dist_mat, k=k, largest=False, sorted=False)\n",
    "    return nn_idx.cuda()\n",
    "\n",
    "def get_edge_feature(point_cloud, nn_idx, k=20):\n",
    "\n",
    "    batch_size = point_cloud.size()[0]\n",
    "    point_cloud = torch.squeeze(point_cloud)\n",
    "    \n",
    "    if batch_size==1:\n",
    "        point_cloud = point_cloud.unsqueeze(0)\n",
    "        \n",
    "    _,num_points,num_dims = point_cloud.size()\n",
    "\n",
    "    idx_ = torch.arange(batch_size) * num_points\n",
    "    idx_ = torch.autograd.Variable(idx_.view(batch_size, 1, 1).long())\n",
    "\n",
    "    idx_ = idx_.cuda()\n",
    "    \n",
    "    # print(nn_idx, batch_size, nn_idx+idx_)\n",
    "\n",
    "    point_cloud_flat = point_cloud.contiguous().view(-1, num_dims).cuda()\n",
    "    # point_cloud_nbrs = torch.gather(point_cloud_flat, dim=0, index=nn_idx+idx_)\n",
    "    point_cloud_nbrs = torch.index_select(point_cloud_flat, dim=0, index=(nn_idx+idx_).view(-1, 1).squeeze().cuda())\n",
    "    point_cloud_nbrs = point_cloud_nbrs.view(batch_size,num_points,k,-1)\n",
    "\n",
    "    # print(point_cloud_nbrs)\n",
    "\n",
    "\n",
    "    point_cloud_central = point_cloud.unsqueeze(-2)\n",
    "    point_cloud_central = point_cloud_central.expand(-1,-1,k,-1)\n",
    "    # import pdb\n",
    "    # pdb.set_trace()\n",
    "\n",
    "    edge_feature = torch.cat((point_cloud_central, point_cloud_nbrs-point_cloud_central), dim=-1).cuda()\n",
    "    return edge_feature\n",
    "\n"
   ]
  },
  {
   "cell_type": "code",
   "execution_count": 4,
   "metadata": {},
   "outputs": [],
   "source": [
    "class input_transform_net(nn.Module):\n",
    "    \"\"\"docstring for input_transform_net\"\"\"\n",
    "    def __init__(self, K=3):\n",
    "        super(input_transform_net, self).__init__()\n",
    "\n",
    "        self.conv1 = nn.Conv2d(6, 64, 1)\n",
    "        self.conv2 = nn.Conv2d(64, 128, 1)\n",
    "        self.conv3 = nn.Conv2d(128, 1024, 1)\n",
    "\n",
    "        self.fc1 = nn.Linear(1024, 512)\n",
    "        self.fc2 = nn.Linear(512, 256)\n",
    "        self.fc3 = nn.Linear(256, K*K)\n",
    "\n",
    "        self.bn1 = nn.BatchNorm2d(64)\n",
    "        self.bn2 = nn.BatchNorm2d(128)\n",
    "        self.bn3 = nn.BatchNorm2d(1024)\n",
    "        \n",
    "        self.bn4 = nn.BatchNorm1d(512)\n",
    "        self.bn5 = nn.BatchNorm1d(256)\n",
    "\n",
    "        self.const = torch.Tensor(torch.from_numpy(np.eye(K).flatten()).float()).cuda()\n",
    "        self.K = K\n",
    "\n",
    "\n",
    "\n",
    "    def forward(self, edge_feat):\n",
    "\n",
    "        batch_size, num_points = edge_feat.size()[0], edge_feat.size()[2]\n",
    "\n",
    "        self.mp1 = nn.MaxPool2d((num_points, 1), stride=2)\n",
    "\n",
    "        x = self.bn1(F.relu(self.conv1(edge_feat)))\n",
    "        x = self.bn2(F.relu(self.conv2(x)))\n",
    "        x,_ = torch.max(x, dim=-1, keepdim=True)\n",
    "\n",
    "        x = self.bn3(F.relu(self.conv3(x)))\n",
    "        x = self.mp1(x)\n",
    "\n",
    "        x = x.view(batch_size, -1)\n",
    "\n",
    "        x = self.bn4(F.relu(self.fc1(x)))\n",
    "        x = self.bn5(F.relu(self.fc2(x)))\n",
    "\n",
    "        x = self.fc3(x) + self.const\n",
    "\n",
    "        x = x.view(batch_size, self.K, self.K)\n",
    "\n",
    "        return x\n"
   ]
  },
  {
   "cell_type": "code",
   "execution_count": 5,
   "metadata": {},
   "outputs": [],
   "source": [
    "import torch.nn.functional as F\n",
    "import torch.autograd as grad\n",
    "import torch.optim as optim\n",
    "class part_seg_net(nn.Module):\n",
    "    \"\"\"docstring for part_seg_net\"\"\"\n",
    "    def __init__(self, part_num, k=30, cat_num=16):\n",
    "        super(part_seg_net, self).__init__()\n",
    "        self.conv1 = nn.Conv2d(6, 64, kernel_size=1)\n",
    "        self.conv2 = nn.Conv2d(64, 64, kernel_size=1)\n",
    "        self.conv3 = nn.Conv2d(128, 64, kernel_size=1)\n",
    "        self.conv4 = nn.Conv2d(128, 64, kernel_size=1)\n",
    "        self.conv5 = nn.Conv2d(128, 64, kernel_size=1)\n",
    "        self.conv6 = nn.Conv2d(128, 64, kernel_size=1)\n",
    "        self.conv7 = nn.Conv2d(128, 64, kernel_size=1)\n",
    "        self.conv8 = nn.Conv2d(192, 1024, kernel_size=1)\n",
    "        self.conv9 = nn.Conv2d(cat_num, 128, kernel_size=1)\n",
    "\n",
    "        self.conv10 = nn.Conv2d(2752, 256, kernel_size=1)\n",
    "        self.conv11 = nn.Conv2d(256, 256, kernel_size=1)\n",
    "        self.conv12 = nn.Conv2d(256, 128, kernel_size=1)\n",
    "        self.conv13 = nn.Conv2d(128, part_num, kernel_size=1)\n",
    "\n",
    "        \n",
    "        self.bn1 = nn.BatchNorm2d(64)\n",
    "        self.bn2 = nn.BatchNorm2d(64)\n",
    "        self.bn3 = nn.BatchNorm2d(64)\n",
    "        self.bn4 = nn.BatchNorm2d(64)\n",
    "        self.bn5 = nn.BatchNorm2d(64)\n",
    "        self.bn6 = nn.BatchNorm2d(64)\n",
    "        self.bn7 = nn.BatchNorm2d(64)\n",
    "        self.bn8 = nn.BatchNorm2d(1024)\n",
    "        self.bn9 = nn.BatchNorm2d(128)\n",
    "        self.bn10 = nn.BatchNorm2d(256)\n",
    "        self.bn11 = nn.BatchNorm2d(256)\n",
    "        self.bn12 = nn.BatchNorm2d(128)\n",
    "\n",
    "        self.dropout = nn.Dropout(p=0.6)\n",
    "\n",
    "        self.input_transform = input_transform_net().cuda() if torch.cuda.is_available() else input_transform_net()\n",
    "\n",
    "        self.k = k\n",
    "        self.part_num = part_num\n",
    "        self.cat_num = cat_num\n",
    "\n",
    "    def forward(self, point_cloud, object_label):\n",
    "\n",
    "        batch_size, num_point,_ = point_cloud.size()\n",
    "        input_img = point_cloud.unsqueeze(-1)\n",
    "\n",
    "        self.mp1 = nn.MaxPool2d((num_point, 1), stride=2)\n",
    "\n",
    "        dist_mat = pairwise_distance(point_cloud)\n",
    "        nn_idx = knn(dist_mat, k=self.k)\n",
    "        edge_feat = get_edge_feature(input_img, nn_idx=nn_idx, k=self.k)\n",
    "        edge_feat = edge_feat.permute(0,3,1,2)\n",
    "        # point_cloud = point_cloud.permute(0,2,1)\n",
    "\n",
    "        transform_mat = self.input_transform(edge_feat)\n",
    "\n",
    "        point_cloud_transformed = torch.bmm(point_cloud, transform_mat).cuda()\n",
    "        input_img = point_cloud_transformed.unsqueeze(-1)\n",
    "        \n",
    "        dist_mat = pairwise_distance(point_cloud_transformed)\n",
    "        nn_idx = knn(dist_mat, k=self.k)\n",
    "        edge_feat = get_edge_feature(input_img, nn_idx=nn_idx, k=self.k)\n",
    "        edge_feat = edge_feat.permute(0,3,1,2)\n",
    "\n",
    "\n",
    "        out1 = self.bn1(F.relu(self.conv1(edge_feat)))\n",
    "        out1 = self.bn2(F.relu(self.conv2(out1)))\n",
    "        out_max1,_ = torch.max(out1, dim=-1, keepdim=True)\n",
    "        out_mean1 = torch.mean(out1, dim=-1, keepdim=True)\n",
    "\n",
    "        out3 = self.bn3(F.relu(self.conv3(torch.cat((out_max1, out_mean1), dim=1))))\n",
    "\n",
    "        out = out3.permute(0,2,3,1)\n",
    "        dist_mat = pairwise_distance(out)\n",
    "        nn_idx = knn(dist_mat, k=self.k)\n",
    "        edge_feat = get_edge_feature(out, nn_idx=nn_idx, k=self.k)\n",
    "        edge_feat = edge_feat.permute(0,3,1,2)\n",
    "\n",
    "        out = self.bn4(F.relu(self.conv4(edge_feat)))\n",
    "        out_max2,_ = torch.max(out, dim=-1, keepdim=True)\n",
    "        out_mean2 = torch.mean(out, dim=-1, keepdim=True)\n",
    "\n",
    "        out5 = self.bn5(F.relu(self.conv5(torch.cat((out_max2, out_mean2), dim=1))))\n",
    "\n",
    "        out = out5.permute(0,2,3,1)\n",
    "        dist_mat = pairwise_distance(torch.squeeze(out, dim=-2))\n",
    "        nn_idx = knn(dist_mat, k=self.k)\n",
    "        edge_feat = get_edge_feature(out, nn_idx=nn_idx, k=self.k)\n",
    "        edge_feat = edge_feat.permute(0,3,1,2)\n",
    "\n",
    "        out = self.bn6(F.relu(self.conv6(edge_feat)))\n",
    "        out_max3,_ = torch.max(out, dim=-1, keepdim=True)\n",
    "        out_mean3 = torch.mean(out, dim=-1, keepdim=True)\n",
    "        out7 = self.bn7(F.relu(self.conv7(torch.cat((out_max3, out_mean3), dim=1))))\n",
    "\n",
    "        out8 = self.bn8(F.relu(self.conv8(torch.cat((out3, out5, out7), dim=1))))\n",
    "\n",
    "        out_max = self.mp1(out8)\n",
    "\n",
    "        one_hot_label_expand = object_label.view(batch_size, self.cat_num, 1, 1)\n",
    "        one_hot_label_expand = self.bn9(F.relu(self.conv9(one_hot_label_expand)))\n",
    "        out_max = torch.cat((out_max, one_hot_label_expand), dim=1)\n",
    "        out_max = out_max.expand(-1,-1,num_point,-1)\n",
    "\n",
    "        concat = torch.cat((out_max, out_max1, out_mean1,\n",
    "                            out3, out_max2, out_mean2,\n",
    "                            out5, out_max3, out_mean3,\n",
    "                            out7, out8), dim=1)\n",
    "\n",
    "        net2 = self.bn10(F.relu(self.conv10(concat)))\n",
    "        net2 = self.dropout(net2)\n",
    "        net2 = self.bn11(F.relu(self.conv11(net2)))\n",
    "        net2 = self.dropout(net2)\n",
    "        net2 = self.bn12(F.relu(self.conv12(net2)))\n",
    "        net2 = self.conv13(net2)\n",
    "\n",
    "        net2 = net2.view(batch_size, self.part_num, num_point, 1)\n",
    "        net2 = F.log_softmax(net2, dim=1)\n",
    "\n",
    "\n",
    "        return net2\n"
   ]
  },
  {
   "cell_type": "code",
   "execution_count": 6,
   "metadata": {},
   "outputs": [],
   "source": [
    "model = part_seg_net(16, cat_num=1)\n",
    "loss_fn = nn.NLLLoss()\n",
    "optimizer = optim.Adam(model.parameters())"
   ]
  },
  {
   "cell_type": "code",
   "execution_count": 7,
   "metadata": {},
   "outputs": [],
   "source": [
    "def convert_label_to_one_hot(labels):\n",
    "  label_one_hot = np.zeros((labels.shape[0], np.max(labels)+1))\n",
    "  for idx in range(labels.shape[0]):\n",
    "    label_one_hot[idx, labels[idx]] = 1\n",
    "  return label_one_hot"
   ]
  },
  {
   "cell_type": "code",
   "execution_count": 8,
   "metadata": {},
   "outputs": [],
   "source": [
    "n_batches = 300"
   ]
  },
  {
   "cell_type": "code",
   "execution_count": 9,
   "metadata": {},
   "outputs": [],
   "source": [
    "labels = np.ones((n_batches, 100))"
   ]
  },
  {
   "cell_type": "code",
   "execution_count": 10,
   "metadata": {},
   "outputs": [],
   "source": [
    "#labels = [convert_label_to_one_hot(i) for i in labels]"
   ]
  },
  {
   "cell_type": "code",
   "execution_count": 11,
   "metadata": {},
   "outputs": [],
   "source": [
    "labels = torch.LongTensor(labels).cuda()"
   ]
  },
  {
   "cell_type": "code",
   "execution_count": 12,
   "metadata": {},
   "outputs": [],
   "source": [
    "point_cloud = torch.Tensor(np.random.randn(n_batches,100,3)).cuda()"
   ]
  },
  {
   "cell_type": "code",
   "execution_count": 13,
   "metadata": {},
   "outputs": [
    {
     "data": {
      "text/plain": [
       "part_seg_net(\n",
       "  (conv1): Conv2d(6, 64, kernel_size=(1, 1), stride=(1, 1))\n",
       "  (conv2): Conv2d(64, 64, kernel_size=(1, 1), stride=(1, 1))\n",
       "  (conv3): Conv2d(128, 64, kernel_size=(1, 1), stride=(1, 1))\n",
       "  (conv4): Conv2d(128, 64, kernel_size=(1, 1), stride=(1, 1))\n",
       "  (conv5): Conv2d(128, 64, kernel_size=(1, 1), stride=(1, 1))\n",
       "  (conv6): Conv2d(128, 64, kernel_size=(1, 1), stride=(1, 1))\n",
       "  (conv7): Conv2d(128, 64, kernel_size=(1, 1), stride=(1, 1))\n",
       "  (conv8): Conv2d(192, 1024, kernel_size=(1, 1), stride=(1, 1))\n",
       "  (conv9): Conv2d(1, 128, kernel_size=(1, 1), stride=(1, 1))\n",
       "  (conv10): Conv2d(2752, 256, kernel_size=(1, 1), stride=(1, 1))\n",
       "  (conv11): Conv2d(256, 256, kernel_size=(1, 1), stride=(1, 1))\n",
       "  (conv12): Conv2d(256, 128, kernel_size=(1, 1), stride=(1, 1))\n",
       "  (conv13): Conv2d(128, 16, kernel_size=(1, 1), stride=(1, 1))\n",
       "  (bn1): BatchNorm2d(64, eps=1e-05, momentum=0.1, affine=True, track_running_stats=True)\n",
       "  (bn2): BatchNorm2d(64, eps=1e-05, momentum=0.1, affine=True, track_running_stats=True)\n",
       "  (bn3): BatchNorm2d(64, eps=1e-05, momentum=0.1, affine=True, track_running_stats=True)\n",
       "  (bn4): BatchNorm2d(64, eps=1e-05, momentum=0.1, affine=True, track_running_stats=True)\n",
       "  (bn5): BatchNorm2d(64, eps=1e-05, momentum=0.1, affine=True, track_running_stats=True)\n",
       "  (bn6): BatchNorm2d(64, eps=1e-05, momentum=0.1, affine=True, track_running_stats=True)\n",
       "  (bn7): BatchNorm2d(64, eps=1e-05, momentum=0.1, affine=True, track_running_stats=True)\n",
       "  (bn8): BatchNorm2d(1024, eps=1e-05, momentum=0.1, affine=True, track_running_stats=True)\n",
       "  (bn9): BatchNorm2d(128, eps=1e-05, momentum=0.1, affine=True, track_running_stats=True)\n",
       "  (bn10): BatchNorm2d(256, eps=1e-05, momentum=0.1, affine=True, track_running_stats=True)\n",
       "  (bn11): BatchNorm2d(256, eps=1e-05, momentum=0.1, affine=True, track_running_stats=True)\n",
       "  (bn12): BatchNorm2d(128, eps=1e-05, momentum=0.1, affine=True, track_running_stats=True)\n",
       "  (dropout): Dropout(p=0.6)\n",
       "  (input_transform): input_transform_net(\n",
       "    (conv1): Conv2d(6, 64, kernel_size=(1, 1), stride=(1, 1))\n",
       "    (conv2): Conv2d(64, 128, kernel_size=(1, 1), stride=(1, 1))\n",
       "    (conv3): Conv2d(128, 1024, kernel_size=(1, 1), stride=(1, 1))\n",
       "    (fc1): Linear(in_features=1024, out_features=512, bias=True)\n",
       "    (fc2): Linear(in_features=512, out_features=256, bias=True)\n",
       "    (fc3): Linear(in_features=256, out_features=9, bias=True)\n",
       "    (bn1): BatchNorm2d(64, eps=1e-05, momentum=0.1, affine=True, track_running_stats=True)\n",
       "    (bn2): BatchNorm2d(128, eps=1e-05, momentum=0.1, affine=True, track_running_stats=True)\n",
       "    (bn3): BatchNorm2d(1024, eps=1e-05, momentum=0.1, affine=True, track_running_stats=True)\n",
       "    (bn4): BatchNorm1d(512, eps=1e-05, momentum=0.1, affine=True, track_running_stats=True)\n",
       "    (bn5): BatchNorm1d(256, eps=1e-05, momentum=0.1, affine=True, track_running_stats=True)\n",
       "  )\n",
       ")"
      ]
     },
     "execution_count": 13,
     "metadata": {},
     "output_type": "execute_result"
    }
   ],
   "source": [
    "model = model.cuda()\n",
    "model.train()"
   ]
  },
  {
   "cell_type": "code",
   "execution_count": 14,
   "metadata": {},
   "outputs": [],
   "source": [
    "n_epochs = 200\n",
    "object_labels_fake = np.zeros((n_batches, 1), dtype='int')\n",
    "object_labels_fake = [convert_label_to_one_hot(i) for i in object_labels_fake]\n",
    "object_labels_fake = torch.Tensor(object_labels_fake).cuda()"
   ]
  },
  {
   "cell_type": "code",
   "execution_count": 15,
   "metadata": {},
   "outputs": [
    {
     "name": "stderr",
     "output_type": "stream",
     "text": [
      "c:\\program files\\python36\\lib\\site-packages\\ipykernel_launcher.py:21: UserWarning: invalid index of a 0-dim tensor. This will be an error in PyTorch 0.5. Use tensor.item() to convert a 0-dim tensor to a Python number\n"
     ]
    },
    {
     "name": "stdout",
     "output_type": "stream",
     "text": [
      "loss: 2.8719911575317383\n",
      "loss: 2.8545351028442383\n",
      "loss: 2.840911865234375\n",
      "loss: 2.8298330307006836\n",
      "loss: 2.818873405456543\n",
      "loss: 2.8078479766845703\n",
      "loss: 2.797025680541992\n",
      "loss: 2.787278890609741\n",
      "loss: 2.775991201400757\n",
      "loss: 2.7661023139953613\n",
      "loss: 2.755455732345581\n",
      "loss: 2.743039131164551\n",
      "loss: 2.73239803314209\n",
      "loss: 2.7199881076812744\n",
      "loss: 2.70757794380188\n",
      "loss: 2.6940221786499023\n",
      "loss: 2.681077003479004\n",
      "loss: 2.6671035289764404\n",
      "loss: 2.6523802280426025\n",
      "loss: 2.63742995262146\n",
      "loss: 2.6219027042388916\n",
      "loss: 2.605048418045044\n",
      "loss: 2.5880091190338135\n",
      "loss: 2.570537567138672\n",
      "loss: 2.551877498626709\n",
      "loss: 2.5326383113861084\n",
      "loss: 2.5130293369293213\n",
      "loss: 2.4923181533813477\n",
      "loss: 2.4709537029266357\n",
      "loss: 2.4488160610198975\n",
      "loss: 2.425750255584717\n",
      "loss: 2.402177572250366\n",
      "loss: 2.3775086402893066\n",
      "loss: 2.352163076400757\n",
      "loss: 2.326099157333374\n",
      "loss: 2.2994720935821533\n",
      "loss: 2.271369457244873\n",
      "loss: 2.2428998947143555\n",
      "loss: 2.2135677337646484\n",
      "loss: 2.183628797531128\n",
      "loss: 2.152439832687378\n",
      "loss: 2.1207854747772217\n",
      "loss: 2.088355302810669\n",
      "loss: 2.054896593093872\n",
      "loss: 2.0209712982177734\n",
      "loss: 1.9859583377838135\n",
      "loss: 1.950530767440796\n",
      "loss: 1.9144046306610107\n",
      "loss: 1.8773562908172607\n",
      "loss: 1.8398067951202393\n",
      "loss: 1.801552653312683\n",
      "loss: 1.7626891136169434\n",
      "loss: 1.7232404947280884\n",
      "loss: 1.6834428310394287\n",
      "loss: 1.6430013179779053\n",
      "loss: 1.6021679639816284\n"
     ]
    },
    {
     "ename": "KeyboardInterrupt",
     "evalue": "",
     "output_type": "error",
     "traceback": [
      "\u001b[1;31m---------------------------------------------------------------------------\u001b[0m",
      "\u001b[1;31mKeyboardInterrupt\u001b[0m                         Traceback (most recent call last)",
      "\u001b[1;32m<ipython-input-15-fcdc286065f6>\u001b[0m in \u001b[0;36m<module>\u001b[1;34m()\u001b[0m\n\u001b[0;32m     26\u001b[0m     \u001b[0moptimizer\u001b[0m\u001b[1;33m.\u001b[0m\u001b[0mstep\u001b[0m\u001b[1;33m(\u001b[0m\u001b[1;33m)\u001b[0m\u001b[1;33m\u001b[0m\u001b[0m\n\u001b[0;32m     27\u001b[0m \u001b[1;33m\u001b[0m\u001b[0m\n\u001b[1;32m---> 28\u001b[1;33m     \u001b[0mprint\u001b[0m\u001b[1;33m(\u001b[0m\u001b[1;34mf\"loss: {total_loss}\"\u001b[0m\u001b[1;33m)\u001b[0m\u001b[1;33m\u001b[0m\u001b[0m\n\u001b[0m\u001b[0;32m     29\u001b[0m     \u001b[1;31m#print(f\"acc: {total_seg_acc}\")\u001b[0m\u001b[1;33m\u001b[0m\u001b[1;33m\u001b[0m\u001b[0m\n",
      "\u001b[1;32mc:\\program files\\python36\\lib\\site-packages\\torch\\tensor.py\u001b[0m in \u001b[0;36m__format__\u001b[1;34m(self, format_spec)\u001b[0m\n\u001b[0;32m    335\u001b[0m     \u001b[1;32mdef\u001b[0m \u001b[0m__format__\u001b[0m\u001b[1;33m(\u001b[0m\u001b[0mself\u001b[0m\u001b[1;33m,\u001b[0m \u001b[0mformat_spec\u001b[0m\u001b[1;33m)\u001b[0m\u001b[1;33m:\u001b[0m\u001b[1;33m\u001b[0m\u001b[0m\n\u001b[0;32m    336\u001b[0m         \u001b[1;32mif\u001b[0m \u001b[0mself\u001b[0m\u001b[1;33m.\u001b[0m\u001b[0mdim\u001b[0m\u001b[1;33m(\u001b[0m\u001b[1;33m)\u001b[0m \u001b[1;33m==\u001b[0m \u001b[1;36m0\u001b[0m\u001b[1;33m:\u001b[0m\u001b[1;33m\u001b[0m\u001b[0m\n\u001b[1;32m--> 337\u001b[1;33m             \u001b[1;32mreturn\u001b[0m \u001b[0mself\u001b[0m\u001b[1;33m.\u001b[0m\u001b[0mitem\u001b[0m\u001b[1;33m(\u001b[0m\u001b[1;33m)\u001b[0m\u001b[1;33m.\u001b[0m\u001b[0m__format__\u001b[0m\u001b[1;33m(\u001b[0m\u001b[0mformat_spec\u001b[0m\u001b[1;33m)\u001b[0m\u001b[1;33m\u001b[0m\u001b[0m\n\u001b[0m\u001b[0;32m    338\u001b[0m         \u001b[1;32mreturn\u001b[0m \u001b[0mobject\u001b[0m\u001b[1;33m.\u001b[0m\u001b[0m__format__\u001b[0m\u001b[1;33m(\u001b[0m\u001b[0mself\u001b[0m\u001b[1;33m,\u001b[0m \u001b[0mformat_spec\u001b[0m\u001b[1;33m)\u001b[0m\u001b[1;33m\u001b[0m\u001b[0m\n\u001b[0;32m    339\u001b[0m \u001b[1;33m\u001b[0m\u001b[0m\n",
      "\u001b[1;31mKeyboardInterrupt\u001b[0m: "
     ]
    }
   ],
   "source": [
    "total_loss = 0.0\n",
    "total_seg_acc = 0.0\n",
    "for i in range(n_epochs):\n",
    "\n",
    "    point_clouds = point_cloud\n",
    "    object_labels = object_labels_fake\n",
    "    true_part_labels = labels\n",
    "\n",
    "    optimizer.zero_grad()\n",
    "\n",
    "    part_label_probs = model(point_clouds, object_labels)\n",
    "    _,part_labels = torch.max(part_label_probs, dim=1)\n",
    "\n",
    "    part_labels.squeeze_(-1)\n",
    "    #acc = torch.sum(part_labels==true_part_labels)/float(n_batches*100)\n",
    "\n",
    "    #part_label_probs = part_label_probs.permute(0, 2, 1, 3)\n",
    "    part_label_probs = part_label_probs.squeeze(-1)\n",
    "    loss = loss_fn(part_label_probs, true_part_labels)\n",
    "\n",
    "    total_loss = loss.data[0]\n",
    "    #total_seg_acc = acc.data[0]\n",
    "\n",
    "    loss.backward()\n",
    "    \n",
    "    optimizer.step()\n",
    "    \n",
    "    print(f\"loss: {total_loss}\")\n",
    "    #print(f\"acc: {total_seg_acc}\")"
   ]
  },
  {
   "cell_type": "code",
   "execution_count": null,
   "metadata": {},
   "outputs": [],
   "source": [
    "#res = model(point_cloud, torch.Tensor(convert_label_to_one_hot(np.zeros((3, 100), dtype='int'))).cuda())"
   ]
  },
  {
   "cell_type": "code",
   "execution_count": 16,
   "metadata": {},
   "outputs": [],
   "source": [
    "point_clouds = point_cloud\n",
    "object_labels = object_labels_fake\n",
    "true_part_labels = labels\n",
    "\n",
    "optimizer.zero_grad()\n",
    "\n",
    "part_label_probs = model(point_clouds, object_labels)\n",
    "_,part_labels = torch.max(part_label_probs, dim=1)\n"
   ]
  },
  {
   "cell_type": "code",
   "execution_count": 17,
   "metadata": {},
   "outputs": [
    {
     "data": {
      "text/plain": [
       "tensor([[1],\n",
       "        [1],\n",
       "        [1],\n",
       "        [1],\n",
       "        [1],\n",
       "        [1],\n",
       "        [1],\n",
       "        [1],\n",
       "        [1],\n",
       "        [1]], device='cuda:0')"
      ]
     },
     "execution_count": 17,
     "metadata": {},
     "output_type": "execute_result"
    }
   ],
   "source": [
    "part_labels[0][:10]"
   ]
  },
  {
   "cell_type": "code",
   "execution_count": 18,
   "metadata": {},
   "outputs": [
    {
     "data": {
      "text/plain": [
       "tensor([1, 1, 1, 1, 1, 1, 1, 1, 1, 1], device='cuda:0')"
      ]
     },
     "execution_count": 18,
     "metadata": {},
     "output_type": "execute_result"
    }
   ],
   "source": [
    "true_part_labels[0][:10]"
   ]
  },
  {
   "cell_type": "code",
   "execution_count": null,
   "metadata": {},
   "outputs": [],
   "source": []
  }
 ],
 "metadata": {
  "kernelspec": {
   "display_name": "Python 3",
   "language": "python",
   "name": "python3"
  },
  "language_info": {
   "codemirror_mode": {
    "name": "ipython",
    "version": 3
   },
   "file_extension": ".py",
   "mimetype": "text/x-python",
   "name": "python",
   "nbconvert_exporter": "python",
   "pygments_lexer": "ipython3",
   "version": "3.6.2"
  }
 },
 "nbformat": 4,
 "nbformat_minor": 2
}
